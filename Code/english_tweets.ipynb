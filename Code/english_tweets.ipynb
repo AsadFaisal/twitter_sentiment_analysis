{
 "cells": [
  {
   "cell_type": "code",
   "execution_count": 1,
   "id": "44486189-a5b6-43e4-9c64-a90344254c70",
   "metadata": {},
   "outputs": [],
   "source": [
    "import pandas as pd\n",
    "from langdetect import detect"
   ]
  },
  {
   "cell_type": "code",
   "execution_count": 2,
   "id": "ea3e30ae-9195-4b2d-a1a6-618abe813333",
   "metadata": {},
   "outputs": [],
   "source": [
    "file_path = r'G:\\Data Projects\\Twitter Sentiment Analysis\\Data\\tweets.csv'\n",
    "df = pd.read_csv(file_path, encoding='utf-8', engine='python')"
   ]
  },
  {
   "cell_type": "code",
   "execution_count": 3,
   "id": "a6f8e7fb-afe0-444a-80d2-d87b9b2cd426",
   "metadata": {},
   "outputs": [],
   "source": [
    "def detect_language(text):\n",
    "    try:\n",
    "        language = detect(text)\n",
    "        return language\n",
    "    except:\n",
    "        return \"unknown\"  \n",
    "\n",
    "df['language'] = df['text'].apply(detect_language)\n",
    "\n",
    "english_tweets_df = df[df['language'] == 'en']\n",
    "\n",
    "english_tweets_df = english_tweets_df.drop(columns=['language'])\n",
    "\n",
    "english_tweets_df.to_csv('english_tweets.csv', index=False)"
   ]
  },
  {
   "cell_type": "code",
   "execution_count": null,
   "id": "c9c583c0-59bc-4d28-a26d-dca7b0368801",
   "metadata": {},
   "outputs": [],
   "source": []
  }
 ],
 "metadata": {
  "kernelspec": {
   "display_name": "Python 3 (ipykernel)",
   "language": "python",
   "name": "python3"
  },
  "language_info": {
   "codemirror_mode": {
    "name": "ipython",
    "version": 3
   },
   "file_extension": ".py",
   "mimetype": "text/x-python",
   "name": "python",
   "nbconvert_exporter": "python",
   "pygments_lexer": "ipython3",
   "version": "3.10.11"
  }
 },
 "nbformat": 4,
 "nbformat_minor": 5
}
